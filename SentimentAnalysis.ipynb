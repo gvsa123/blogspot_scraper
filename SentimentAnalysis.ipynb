{
 "cells": [
  {
   "cell_type": "markdown",
   "metadata": {},
   "source": [
    "# TextBlob NLP library\n",
    "\n",
    "Applying the `TextBlob` python library to generate sentiment scores for each blog entry in the dataset. Note that only `polarity scores` are included to determine whether a blog post scores positive or negative according to the TextBlob algorithm."
   ]
  },
  {
   "cell_type": "code",
   "execution_count": 1,
   "metadata": {},
   "outputs": [],
   "source": [
    "import pandas as pd\n",
    "from textblob import TextBlob"
   ]
  },
  {
   "cell_type": "code",
   "execution_count": 2,
   "metadata": {},
   "outputs": [],
   "source": [
    "# Read original dataset into df\n",
    "df = pd.read_csv('blog_spot.csv', index_col=0)"
   ]
  },
  {
   "cell_type": "markdown",
   "metadata": {},
   "source": [
    "## Standard text clean up and processing"
   ]
  },
  {
   "cell_type": "code",
   "execution_count": 3,
   "metadata": {},
   "outputs": [],
   "source": [
    "df = df.applymap(lambda x : str(x).lower())"
   ]
  },
  {
   "cell_type": "code",
   "execution_count": 4,
   "metadata": {},
   "outputs": [],
   "source": [
    "# Function to apply sentiment module\n",
    "def get_polarity(text):\n",
    "    \"\"\"Get the text polarity score using TextBlob\"\"\"\n",
    "    return TextBlob(text).sentiment.polarity"
   ]
  },
  {
   "cell_type": "code",
   "execution_count": 5,
   "metadata": {},
   "outputs": [],
   "source": [
    "df1 = df.applymap(lambda text : get_polarity(text))"
   ]
  },
  {
   "cell_type": "markdown",
   "metadata": {},
   "source": [
    "## Data visualization\n",
    "\n",
    "The histogram below shows how the blog posts are normally distributed across the sentiment spectrum."
   ]
  },
  {
   "cell_type": "code",
   "execution_count": 6,
   "metadata": {},
   "outputs": [],
   "source": [
    "import matplotlib.pyplot as plt"
   ]
  },
  {
   "cell_type": "code",
   "execution_count": 7,
   "metadata": {},
   "outputs": [
    {
     "data": {
      "text/plain": [
       "<matplotlib.axes._subplots.AxesSubplot at 0x7f1955bd0d00>"
      ]
     },
     "execution_count": 7,
     "metadata": {},
     "output_type": "execute_result"
    },
    {
     "data": {
      "image/png": "[encoded data removed]",
      "text/plain": [
       "<Figure size 432x288 with 1 Axes>"
      ]
     },
     "metadata": {
      "needs_background": "light"
     },
     "output_type": "display_data"
    }
   ],
   "source": [
    "df1.plot.hist(alpha=0.5)"
   ]
  },
  {
   "cell_type": "code",
   "execution_count": 8,
   "metadata": {},
   "outputs": [
    {
     "data": {
      "text/html": [
       "<div>\n",
       "<style scoped>\n",
       "    .dataframe tbody tr th:only-of-type {\n",
       "        vertical-align: middle;\n",
       "    }\n",
       "\n",
       "    .dataframe tbody tr th {\n",
       "        vertical-align: top;\n",
       "    }\n",
       "\n",
       "    .dataframe thead th {\n",
       "        text-align: right;\n",
       "    }\n",
       "</style>\n",
       "<table border=\"1\" class=\"dataframe\">\n",
       "  <thead>\n",
       "    <tr style=\"text-align: right;\">\n",
       "      <th></th>\n",
       "      <th>wanderingscribe</th>\n",
       "      <th>homelesschroniclesintampa</th>\n",
       "      <th>livinghomelessourwritetospeak</th>\n",
       "      <th>seattlehomeless</th>\n",
       "      <th>homevan</th>\n",
       "      <th>joe-anybody</th>\n",
       "      <th>thehomelessfinch</th>\n",
       "    </tr>\n",
       "  </thead>\n",
       "  <tbody>\n",
       "    <tr>\n",
       "      <th>count</th>\n",
       "      <td>2363.000000</td>\n",
       "      <td>2363.000000</td>\n",
       "      <td>2363.000000</td>\n",
       "      <td>2363.000000</td>\n",
       "      <td>2363.000000</td>\n",
       "      <td>2363.000000</td>\n",
       "      <td>2363.000000</td>\n",
       "    </tr>\n",
       "    <tr>\n",
       "      <th>mean</th>\n",
       "      <td>0.050486</td>\n",
       "      <td>0.052295</td>\n",
       "      <td>0.008080</td>\n",
       "      <td>0.042578</td>\n",
       "      <td>0.067480</td>\n",
       "      <td>0.002645</td>\n",
       "      <td>0.070127</td>\n",
       "    </tr>\n",
       "    <tr>\n",
       "      <th>std</th>\n",
       "      <td>0.216771</td>\n",
       "      <td>0.259855</td>\n",
       "      <td>0.057511</td>\n",
       "      <td>0.206941</td>\n",
       "      <td>0.225238</td>\n",
       "      <td>0.036567</td>\n",
       "      <td>0.192350</td>\n",
       "    </tr>\n",
       "    <tr>\n",
       "      <th>min</th>\n",
       "      <td>-1.000000</td>\n",
       "      <td>-1.000000</td>\n",
       "      <td>-0.327778</td>\n",
       "      <td>-1.000000</td>\n",
       "      <td>-1.000000</td>\n",
       "      <td>-0.600000</td>\n",
       "      <td>-0.800000</td>\n",
       "    </tr>\n",
       "    <tr>\n",
       "      <th>25%</th>\n",
       "      <td>0.000000</td>\n",
       "      <td>0.000000</td>\n",
       "      <td>0.000000</td>\n",
       "      <td>0.000000</td>\n",
       "      <td>0.000000</td>\n",
       "      <td>0.000000</td>\n",
       "      <td>0.000000</td>\n",
       "    </tr>\n",
       "    <tr>\n",
       "      <th>50%</th>\n",
       "      <td>0.000000</td>\n",
       "      <td>0.000000</td>\n",
       "      <td>0.000000</td>\n",
       "      <td>0.000000</td>\n",
       "      <td>0.000000</td>\n",
       "      <td>0.000000</td>\n",
       "      <td>0.000000</td>\n",
       "    </tr>\n",
       "    <tr>\n",
       "      <th>75%</th>\n",
       "      <td>0.125000</td>\n",
       "      <td>0.125000</td>\n",
       "      <td>0.000000</td>\n",
       "      <td>0.097098</td>\n",
       "      <td>0.062500</td>\n",
       "      <td>0.000000</td>\n",
       "      <td>0.116667</td>\n",
       "    </tr>\n",
       "    <tr>\n",
       "      <th>max</th>\n",
       "      <td>1.000000</td>\n",
       "      <td>1.000000</td>\n",
       "      <td>1.000000</td>\n",
       "      <td>1.000000</td>\n",
       "      <td>1.000000</td>\n",
       "      <td>0.700000</td>\n",
       "      <td>1.000000</td>\n",
       "    </tr>\n",
       "  </tbody>\n",
       "</table>\n",
       "</div>"
      ],
      "text/plain": [
       "       wanderingscribe  homelesschroniclesintampa  \\\n",
       "count      2363.000000                2363.000000   \n",
       "mean          0.050486                   0.052295   \n",
       "std           0.216771                   0.259855   \n",
       "min          -1.000000                  -1.000000   \n",
       "25%           0.000000                   0.000000   \n",
       "50%           0.000000                   0.000000   \n",
       "75%           0.125000                   0.125000   \n",
       "max           1.000000                   1.000000   \n",
       "\n",
       "       livinghomelessourwritetospeak  seattlehomeless      homevan  \\\n",
       "count                    2363.000000      2363.000000  2363.000000   \n",
       "mean                        0.008080         0.042578     0.067480   \n",
       "std                         0.057511         0.206941     0.225238   \n",
       "min                        -0.327778        -1.000000    -1.000000   \n",
       "25%                         0.000000         0.000000     0.000000   \n",
       "50%                         0.000000         0.000000     0.000000   \n",
       "75%                         0.000000         0.097098     0.062500   \n",
       "max                         1.000000         1.000000     1.000000   \n",
       "\n",
       "       joe-anybody  thehomelessfinch  \n",
       "count  2363.000000       2363.000000  \n",
       "mean      0.002645          0.070127  \n",
       "std       0.036567          0.192350  \n",
       "min      -0.600000         -0.800000  \n",
       "25%       0.000000          0.000000  \n",
       "50%       0.000000          0.000000  \n",
       "75%       0.000000          0.116667  \n",
       "max       0.700000          1.000000  "
      ]
     },
     "execution_count": 8,
     "metadata": {},
     "output_type": "execute_result"
    }
   ],
   "source": [
    "# Descriptive summary of sentiment polarity scores\n",
    "df1.describe()"
   ]
  },
  {
   "cell_type": "markdown",
   "metadata": {},
   "source": [
    "The bar graph below plots the mean polarity scores for all of the blogs. From this we can see that the mean scores are relatively neutral in content, with a slight bias towards the positive end of the scale."
   ]
  },
  {
   "cell_type": "code",
   "execution_count": 9,
   "metadata": {},
   "outputs": [
    {
     "data": {
      "text/plain": [
       "<matplotlib.axes._subplots.AxesSubplot at 0x7f19533a8160>"
      ]
     },
     "execution_count": 9,
     "metadata": {},
     "output_type": "execute_result"
    },
    {
     "data": {
      "image/png": "[encoded data removed]",
      "text/plain": [
       "<Figure size 432x288 with 1 Axes>"
      ]
     },
     "metadata": {
      "needs_background": "light"
     },
     "output_type": "display_data"
    }
   ],
   "source": [
    "df1.mean().plot(kind='bar')"
   ]
  },
  {
   "cell_type": "markdown",
   "metadata": {},
   "source": [
    "## Comparing frequency counts for positive and negative posts"
   ]
  },
  {
   "cell_type": "code",
   "execution_count": 10,
   "metadata": {},
   "outputs": [],
   "source": [
    "df2 = df1.applymap(lambda x : float(\"{:.2f}\".format(x)))"
   ]
  },
  {
   "cell_type": "code",
   "execution_count": 11,
   "metadata": {},
   "outputs": [],
   "source": [
    "def post_sent(score):\n",
    "    \"\"\"Determine if a post is postive, neutral or negative\"\"\"\n",
    "    if score < 0:\n",
    "        return 'n'\n",
    "    elif score == 0:\n",
    "        return '-'\n",
    "    elif score > 0:\n",
    "        return 'p'"
   ]
  },
  {
   "cell_type": "code",
   "execution_count": 12,
   "metadata": {},
   "outputs": [],
   "source": [
    "df3 = df2.applymap(lambda x : post_sent(x))"
   ]
  },
  {
   "cell_type": "code",
   "execution_count": 13,
   "metadata": {},
   "outputs": [
    {
     "data": {
      "text/html": [
       "<div>\n",
       "<style scoped>\n",
       "    .dataframe tbody tr th:only-of-type {\n",
       "        vertical-align: middle;\n",
       "    }\n",
       "\n",
       "    .dataframe tbody tr th {\n",
       "        vertical-align: top;\n",
       "    }\n",
       "\n",
       "    .dataframe thead th {\n",
       "        text-align: right;\n",
       "    }\n",
       "</style>\n",
       "<table border=\"1\" class=\"dataframe\">\n",
       "  <thead>\n",
       "    <tr style=\"text-align: right;\">\n",
       "      <th></th>\n",
       "      <th>wanderingscribe</th>\n",
       "      <th>homelesschroniclesintampa</th>\n",
       "      <th>livinghomelessourwritetospeak</th>\n",
       "      <th>seattlehomeless</th>\n",
       "      <th>homevan</th>\n",
       "      <th>joe-anybody</th>\n",
       "      <th>thehomelessfinch</th>\n",
       "    </tr>\n",
       "  </thead>\n",
       "  <tbody>\n",
       "    <tr>\n",
       "      <th>0</th>\n",
       "      <td>-</td>\n",
       "      <td>p</td>\n",
       "      <td>-</td>\n",
       "      <td>-</td>\n",
       "      <td>-</td>\n",
       "      <td>-</td>\n",
       "      <td>-</td>\n",
       "    </tr>\n",
       "    <tr>\n",
       "      <th>1</th>\n",
       "      <td>p</td>\n",
       "      <td>-</td>\n",
       "      <td>n</td>\n",
       "      <td>-</td>\n",
       "      <td>-</td>\n",
       "      <td>p</td>\n",
       "      <td>p</td>\n",
       "    </tr>\n",
       "    <tr>\n",
       "      <th>2</th>\n",
       "      <td>n</td>\n",
       "      <td>p</td>\n",
       "      <td>p</td>\n",
       "      <td>p</td>\n",
       "      <td>-</td>\n",
       "      <td>-</td>\n",
       "      <td>p</td>\n",
       "    </tr>\n",
       "    <tr>\n",
       "      <th>3</th>\n",
       "      <td>p</td>\n",
       "      <td>n</td>\n",
       "      <td>p</td>\n",
       "      <td>-</td>\n",
       "      <td>-</td>\n",
       "      <td>-</td>\n",
       "      <td>-</td>\n",
       "    </tr>\n",
       "    <tr>\n",
       "      <th>4</th>\n",
       "      <td>n</td>\n",
       "      <td>-</td>\n",
       "      <td>p</td>\n",
       "      <td>-</td>\n",
       "      <td>-</td>\n",
       "      <td>-</td>\n",
       "      <td>n</td>\n",
       "    </tr>\n",
       "    <tr>\n",
       "      <th>...</th>\n",
       "      <td>...</td>\n",
       "      <td>...</td>\n",
       "      <td>...</td>\n",
       "      <td>...</td>\n",
       "      <td>...</td>\n",
       "      <td>...</td>\n",
       "      <td>...</td>\n",
       "    </tr>\n",
       "    <tr>\n",
       "      <th>2358</th>\n",
       "      <td>-</td>\n",
       "      <td>p</td>\n",
       "      <td>-</td>\n",
       "      <td>-</td>\n",
       "      <td>-</td>\n",
       "      <td>-</td>\n",
       "      <td>-</td>\n",
       "    </tr>\n",
       "    <tr>\n",
       "      <th>2359</th>\n",
       "      <td>-</td>\n",
       "      <td>-</td>\n",
       "      <td>-</td>\n",
       "      <td>-</td>\n",
       "      <td>-</td>\n",
       "      <td>-</td>\n",
       "      <td>-</td>\n",
       "    </tr>\n",
       "    <tr>\n",
       "      <th>2360</th>\n",
       "      <td>-</td>\n",
       "      <td>p</td>\n",
       "      <td>-</td>\n",
       "      <td>-</td>\n",
       "      <td>p</td>\n",
       "      <td>-</td>\n",
       "      <td>-</td>\n",
       "    </tr>\n",
       "    <tr>\n",
       "      <th>2361</th>\n",
       "      <td>-</td>\n",
       "      <td>-</td>\n",
       "      <td>-</td>\n",
       "      <td>-</td>\n",
       "      <td>p</td>\n",
       "      <td>-</td>\n",
       "      <td>-</td>\n",
       "    </tr>\n",
       "    <tr>\n",
       "      <th>2362</th>\n",
       "      <td>-</td>\n",
       "      <td>-</td>\n",
       "      <td>-</td>\n",
       "      <td>-</td>\n",
       "      <td>n</td>\n",
       "      <td>-</td>\n",
       "      <td>-</td>\n",
       "    </tr>\n",
       "  </tbody>\n",
       "</table>\n",
       "<p>2363 rows × 7 columns</p>\n",
       "</div>"
      ],
      "text/plain": [
       "     wanderingscribe homelesschroniclesintampa livinghomelessourwritetospeak  \\\n",
       "0                  -                         p                             -   \n",
       "1                  p                         -                             n   \n",
       "2                  n                         p                             p   \n",
       "3                  p                         n                             p   \n",
       "4                  n                         -                             p   \n",
       "...              ...                       ...                           ...   \n",
       "2358               -                         p                             -   \n",
       "2359               -                         -                             -   \n",
       "2360               -                         p                             -   \n",
       "2361               -                         -                             -   \n",
       "2362               -                         -                             -   \n",
       "\n",
       "     seattlehomeless homevan joe-anybody thehomelessfinch  \n",
       "0                  -       -           -                -  \n",
       "1                  -       -           p                p  \n",
       "2                  p       -           -                p  \n",
       "3                  -       -           -                -  \n",
       "4                  -       -           -                n  \n",
       "...              ...     ...         ...              ...  \n",
       "2358               -       -           -                -  \n",
       "2359               -       -           -                -  \n",
       "2360               -       p           -                -  \n",
       "2361               -       p           -                -  \n",
       "2362               -       n           -                -  \n",
       "\n",
       "[2363 rows x 7 columns]"
      ]
     },
     "execution_count": 13,
     "metadata": {},
     "output_type": "execute_result"
    }
   ],
   "source": [
    "df3"
   ]
  },
  {
   "cell_type": "code",
   "execution_count": 14,
   "metadata": {},
   "outputs": [],
   "source": [
    "# TODO - plot number of pos vs neg posts"
   ]
  }
 ],
 "metadata": {
  "kernelspec": {
   "display_name": "Python 3",
   "language": "python",
   "name": "python3"
  },
  "language_info": {
   "codemirror_mode": {
    "name": "ipython",
    "version": 3
   },
   "file_extension": ".py",
   "mimetype": "text/x-python",
   "name": "python",
   "nbconvert_exporter": "python",
   "pygments_lexer": "ipython3",
   "version": "3.8.3"
  }
 },
 "nbformat": 4,
 "nbformat_minor": 4
}
