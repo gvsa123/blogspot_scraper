{
 "cells": [
  {
   "cell_type": "markdown",
   "metadata": {},
   "source": [
    "# Data Preprocessing"
   ]
  },
  {
   "cell_type": "code",
   "execution_count": 1,
   "metadata": {},
   "outputs": [],
   "source": [
    "import pandas as pd\n",
    "import regex\n",
    "import glob"
   ]
  },
  {
   "cell_type": "code",
   "execution_count": 10,
   "metadata": {},
   "outputs": [
    {
     "name": "stdout",
     "output_type": "stream",
     "text": [
      "['wanderingscribe', 'homelesschroniclesintampa', 'livinghomelessourwritetospeak', 'seattlehomeless', 'homevan', 'joe-anybody', 'thehomelessfinch']\n"
     ]
    }
   ],
   "source": [
    "def create_filename():\n",
    "    \"\"\"Create filename list from os.listdir()\"\"\"\n",
    "\n",
    "    filelist = []\n",
    "    colname = []\n",
    "    \n",
    "    for file in glob.glob('./data/*.txt'):\n",
    "        colname.append(file[12:-4])\n",
    "        filelist.append(file)\n",
    "    \n",
    "    print(colname)\n",
    "    return filelist, colname\n",
    "\n",
    "filelist, colname = create_filename() # Create filename_list"
   ]
  },
  {
   "cell_type": "code",
   "execution_count": 11,
   "metadata": {},
   "outputs": [
    {
     "data": {
      "text/plain": [
       "['./data/data_wanderingscribe.txt',\n",
       " './data/data_homelesschroniclesintampa.txt',\n",
       " './data/data_livinghomelessourwritetospeak.txt',\n",
       " './data/data_seattlehomeless.txt',\n",
       " './data/data_homevan.txt',\n",
       " './data/data_joe-anybody.txt',\n",
       " './data/data_thehomelessfinch.txt']"
      ]
     },
     "execution_count": 11,
     "metadata": {},
     "output_type": "execute_result"
    }
   ],
   "source": [
    "filelist"
   ]
  },
  {
   "cell_type": "code",
   "execution_count": 12,
   "metadata": {},
   "outputs": [
    {
     "data": {
      "text/plain": [
       "['wanderingscribe',\n",
       " 'homelesschroniclesintampa',\n",
       " 'livinghomelessourwritetospeak',\n",
       " 'seattlehomeless',\n",
       " 'homevan',\n",
       " 'joe-anybody',\n",
       " 'thehomelessfinch']"
      ]
     },
     "execution_count": 12,
     "metadata": {},
     "output_type": "execute_result"
    }
   ],
   "source": [
    "colname"
   ]
  },
  {
   "cell_type": "code",
   "execution_count": null,
   "metadata": {},
   "outputs": [],
   "source": [
    "def create_df(TEXT):\n",
    "    \"\"\"Create df from get_text()\"\"\"\n",
    "    \n",
    "    for filename in filelist:\n",
    "        df[filename] = pd.DataFrame(TEXT, columns=[filename[12:-4]])\n",
    "        print(f\"Dataframe created!\")\n",
    "\n",
    "    return df"
   ]
  },
  {
   "cell_type": "code",
   "execution_count": null,
   "metadata": {},
   "outputs": [],
   "source": [
    "# Import raw text\n",
    "def get_text():\n",
    "    \"\"\"Create df from filename_list\"\"\"\n",
    "    \n",
    "    # Open read file\n",
    "    for filename in filelist:\n",
    "        TEXT = []\n",
    "        with open(filename, 'r') as f: # Pass list of filenames\n",
    "            text = f.readlines()\n",
    "            for txt in text:\n",
    "                if txt != '\\n':\n",
    "                    TEXT.append(txt)\n",
    "        return TEXT\n",
    "    \n",
    "            \n",
    "                    \n",
    "get_text()"
   ]
  },
  {
   "cell_type": "code",
   "execution_count": null,
   "metadata": {},
   "outputs": [],
   "source": []
  },
  {
   "cell_type": "code",
   "execution_count": null,
   "metadata": {},
   "outputs": [],
   "source": []
  }
 ],
 "metadata": {
  "kernelspec": {
   "display_name": "Python 3",
   "language": "python",
   "name": "python3"
  },
  "language_info": {
   "codemirror_mode": {
    "name": "ipython",
    "version": 3
   },
   "file_extension": ".py",
   "mimetype": "text/x-python",
   "name": "python",
   "nbconvert_exporter": "python",
   "pygments_lexer": "ipython3",
   "version": "3.8.3"
  }
 },
 "nbformat": 4,
 "nbformat_minor": 4
}
